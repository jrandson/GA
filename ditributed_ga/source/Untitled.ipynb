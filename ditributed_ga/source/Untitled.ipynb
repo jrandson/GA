{
 "cells": [
  {
   "cell_type": "code",
   "execution_count": null,
   "metadata": {
    "collapsed": false
   },
   "outputs": [
    {
     "name": "stdout",
     "output_type": "stream",
     "text": [
      "-0.0377324317503\n"
     ]
    }
   ],
   "source": [
    "import matplotlib as mpl\n",
    "from matplotlib import pyplot as plt\n",
    "from math import sqrt,sin\n",
    "\n",
    "eps = -120\n",
    "x = range(100)\n",
    "\n",
    "#print x\n",
    "r = [sqrt(i**2) + eps for i in x]\n",
    "y = [sin(i)/i for i in r]\n",
    "\n",
    "print(min(y))\n",
    "\n",
    "plt.plot(x,y,'r*')\n",
    "plt.show()\n",
    "\n",
    "#-0.0377324317503"
   ]
  }
 ],
 "metadata": {
  "kernelspec": {
   "display_name": "Python 2",
   "language": "python",
   "name": "python2"
  },
  "language_info": {
   "codemirror_mode": {
    "name": "ipython",
    "version": 2
   },
   "file_extension": ".py",
   "mimetype": "text/x-python",
   "name": "python",
   "nbconvert_exporter": "python",
   "pygments_lexer": "ipython2",
   "version": "2.7.9"
  }
 },
 "nbformat": 4,
 "nbformat_minor": 1
}
